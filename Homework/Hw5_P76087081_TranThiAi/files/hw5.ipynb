{
 "cells": [
  {
   "cell_type": "code",
   "execution_count": 1,
   "metadata": {},
   "outputs": [
    {
     "data": {
      "application/javascript": [
       "\n",
       "require(['notebook/js/codecell'], function(codecell) {\n",
       "  codecell.CodeCell.options_default.highlight_modes[\n",
       "      'magic_text/x-csrc'] = {'reg':[/^%%microblaze/]};\n",
       "  Jupyter.notebook.events.one('kernel_ready.Kernel', function(){\n",
       "      Jupyter.notebook.get_cells().map(function(cell){\n",
       "          if (cell.cell_type == 'code'){ cell.auto_highlight(); } }) ;\n",
       "  });\n",
       "});\n"
      ]
     },
     "metadata": {},
     "output_type": "display_data"
    },
    {
     "name": "stderr",
     "output_type": "stream",
     "text": [
      "/usr/local/lib/python3.6/dist-packages/pynq/overlay.py:299: UserWarning: Users will not get PARAMETERS / REGISTERS information through TCL files. HWH file is recommended.\n",
      "  warnings.warn(message, UserWarning)\n"
     ]
    }
   ],
   "source": [
    "from pynq import Overlay\n",
    "conv = Overlay(\"./hw5.bit\")"
   ]
  },
  {
   "cell_type": "code",
   "execution_count": 2,
   "metadata": {},
   "outputs": [
    {
     "data": {
      "text/plain": [
       "{'axi_cdma_0': {'addr_range': 65536,\n",
       "  'driver': pynq.overlay.DefaultIP,\n",
       "  'fullpath': 'axi_cdma_0',\n",
       "  'gpio': {},\n",
       "  'interrupts': {},\n",
       "  'mem_id': 'SEG_axi_cdma_0_Reg',\n",
       "  'phys_addr': 2116026368,\n",
       "  'state': None,\n",
       "  'type': 'xilinx.com:ip:axi_cdma:4.1'}}"
      ]
     },
     "execution_count": 2,
     "metadata": {},
     "output_type": "execute_result"
    }
   ],
   "source": [
    "conv.ip_dict"
   ]
  },
  {
   "cell_type": "code",
   "execution_count": 3,
   "metadata": {},
   "outputs": [
    {
     "name": "stdout",
     "output_type": "stream",
     "text": [
      "Physical address of cdma: 0x7e200000\n"
     ]
    }
   ],
   "source": [
    "cdma_address = conv.ip_dict['axi_cdma_0']['phys_addr']\n",
    "print(\"Physical address of cdma: 0x\" + format(cdma_address, '02x'))"
   ]
  },
  {
   "cell_type": "code",
   "execution_count": 4,
   "metadata": {},
   "outputs": [],
   "source": [
    "#set zynq address\n",
    "zynq_addr = 0X30000000"
   ]
  },
  {
   "cell_type": "code",
   "execution_count": 5,
   "metadata": {},
   "outputs": [],
   "source": [
    "from pynq import MMIO\n",
    "cdma = MMIO(cdma_address, 65536)\n",
    "zynq = MMIO(zynq_addr, 16384)"
   ]
  },
  {
   "cell_type": "code",
   "execution_count": 6,
   "metadata": {},
   "outputs": [],
   "source": [
    "#open input file\n",
    "fp = open('input.hex', \"r\")\n",
    "line = fp.readline()\n",
    "addr = 0\n",
    "while line: #read the contents line by line until the end of the file\n",
    "    hex_int = int(line, 16)\n",
    "    zynq.write(addr, hex_int)\n",
    "    line = fp.readline()\n",
    "    addr = addr + 4\n",
    "fp.close()"
   ]
  },
  {
   "cell_type": "code",
   "execution_count": 7,
   "metadata": {},
   "outputs": [],
   "source": [
    "#write data from ZYNQ to bram0\n",
    "cdma.write(0x0, 0x4) #CDMACR (CDMA_control)\n",
    "cdma.write(0x18, zynq_addr) #SA (Source Address)\n",
    "cdma.write(0x20, 0xC0000000) #DA (Destination Address)\n",
    "cdma.write(0x28, 3180) #BTT (the number of Bytes to be transmitted)"
   ]
  },
  {
   "cell_type": "code",
   "execution_count": 8,
   "metadata": {},
   "outputs": [],
   "source": [
    "#write data from bram1 to ZYNQ\n",
    "cdma.write(0x0, 0x4) #CDMACR (CDMA_control)\n",
    "cdma.write(0x18, 0xC2000000) #SA (Source Address)\n",
    "cdma.write(0x20, zynq_addr) #DA (Destination Address)\n",
    "cdma.write(0x28, 2704) #BTT (the number of Bytes to be transmitted)"
   ]
  },
  {
   "cell_type": "code",
   "execution_count": 9,
   "metadata": {},
   "outputs": [],
   "source": [
    "#write the output data to output.hex\n",
    "fp = open('output.hex', \"w\")\n",
    "addr = 0\n",
    "while addr<=2700:\n",
    "    hex_int = zynq.read(addr)\n",
    "    fp.writelines(str('%08x' % hex_int).upper()+\"\\n\")\n",
    "    #print(('%08x' % hex_int).upper())\n",
    "    addr=addr+4\n",
    "fp.close()"
   ]
  },
  {
   "cell_type": "code",
   "execution_count": 10,
   "metadata": {},
   "outputs": [
    {
     "name": "stdout",
     "output_type": "stream",
     "text": [
      "CONGRATULATIONS!\n"
     ]
    }
   ],
   "source": [
    "#checking the contents of the output and comparing with the golden\n",
    "f1=open(\"output.hex\",\"r\")\n",
    "f2=open(\"golden.hex\",\"r\")\n",
    "i=-1\n",
    "j=1\n",
    "for line1 in f1:\n",
    "    for line2 in f2:\n",
    "        i=i+1\n",
    "        if line1!=line2:\n",
    "            j=0\n",
    "            print(\"Different at pixel\", i, \":\", line1, \"expected\", line2)\n",
    "        #else:\n",
    "            #print(\"Same at pixel\",i)\n",
    "        break\n",
    "if j==1:\n",
    "    print(\"CONGRATULATIONS!\")\n",
    "else:\n",
    "    print(\"OOPS!\")\n",
    "f1.close()\n",
    "f2.close()"
   ]
  },
  {
   "cell_type": "code",
   "execution_count": null,
   "metadata": {},
   "outputs": [],
   "source": []
  },
  {
   "cell_type": "code",
   "execution_count": null,
   "metadata": {},
   "outputs": [],
   "source": []
  }
 ],
 "metadata": {
  "kernelspec": {
   "display_name": "Python 3",
   "language": "python",
   "name": "python3"
  },
  "language_info": {
   "codemirror_mode": {
    "name": "ipython",
    "version": 3
   },
   "file_extension": ".py",
   "mimetype": "text/x-python",
   "name": "python",
   "nbconvert_exporter": "python",
   "pygments_lexer": "ipython3",
   "version": "3.6.5"
  }
 },
 "nbformat": 4,
 "nbformat_minor": 2
}
